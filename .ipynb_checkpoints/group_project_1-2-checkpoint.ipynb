{
 "cells": [
  {
   "cell_type": "markdown",
   "metadata": {},
   "source": [
    "# Depression"
   ]
  },
  {
   "cell_type": "markdown",
   "metadata": {},
   "source": [
    "<img width=\"500\" height=\"400\" alt=\"not found\" src=\"2.png\">\n"
   ]
  },
  {
   "cell_type": "markdown",
   "metadata": {},
   "source": [
    "## Group members\n",
    "- Farah alosaimi \n",
    "- Sheikha alobody\n",
    "- Abdulmalik Alsharekh"
   ]
  },
  {
   "cell_type": "markdown",
   "metadata": {},
   "source": [
    "## Problem:\n",
    "### The aim of this study is to examine the relationship between life conditions in rural areas and the prevalence of depression. By analyzing various factors such as socio-demographic information, economic status, and education level, the goal is to gain insights into the potential risk factors and their impact on depression in rural populations.\n",
    "\n",
    "## Objective: \n",
    "### The objective of this study is to explore the following aspects related to depression in rural areas:\n",
    "\n",
    "1. Identify the demographic characteristics of the survey participants, including gender, age, marital status, and number of children.\n",
    "\n",
    "2. Examine the education levels of individuals living in rural zones and assess how education may influence the prevalence of depression.\n",
    "\n",
    "3. Investigate the economic factors, such as gained assets, durable assets, savings, and income sources (e.g., salary, own farm, business), to understand their relationship with depression.\n",
    "\n",
    "4. Analyze the impact of living expenses, other expenses, agricultural income, farm expenses, and labor involvement on depression rates.\n",
    "\n",
    "5. Evaluate the influence of lasting investments and lack of lasting investments on the prevalence of depression.\n",
    "\n",
    "### By addressing these objectives, we aim to enhance our understanding of the life conditions contributing to depression in rural areas. The insights gained from this study can help inform the development of targeted interventions and policies to improve mental health support and overall well-being in rural communities."
   ]
  },
  {
   "cell_type": "code",
   "execution_count": 1,
   "metadata": {},
   "outputs": [],
   "source": [
    "#!pip install pandas-profiling[notebook]"
   ]
  },
  {
   "cell_type": "code",
   "execution_count": 1,
   "metadata": {},
   "outputs": [],
   "source": [
    "#imports the lib\n",
    "import numpy as np\n",
    "import pandas as pd\n",
    "#import pandas_profiling\n",
    "import matplotlib.pyplot as plt"
   ]
  },
  {
   "cell_type": "code",
   "execution_count": 2,
   "metadata": {
    "scrolled": true
   },
   "outputs": [],
   "source": [
    "# read the data\n",
    "df = pd.read_csv(\"b_depressed.csv\")\n",
    "# A DataFrame named df\n",
    "#profile = df.profile_report(title='EDA Depression Report')"
   ]
  },
  {
   "cell_type": "markdown",
   "metadata": {},
   "source": [
    "### The dataset has 23 columns and the total of rows is 1429"
   ]
  },
  {
   "cell_type": "code",
   "execution_count": 3,
   "metadata": {
    "scrolled": true
   },
   "outputs": [
    {
     "data": {
      "text/plain": [
       "(1429, 23)"
      ]
     },
     "execution_count": 3,
     "metadata": {},
     "output_type": "execute_result"
    }
   ],
   "source": [
    "df.shape"
   ]
  },
  {
   "cell_type": "code",
   "execution_count": 4,
   "metadata": {},
   "outputs": [
    {
     "data": {
      "text/html": [
       "<div>\n",
       "<style scoped>\n",
       "    .dataframe tbody tr th:only-of-type {\n",
       "        vertical-align: middle;\n",
       "    }\n",
       "\n",
       "    .dataframe tbody tr th {\n",
       "        vertical-align: top;\n",
       "    }\n",
       "\n",
       "    .dataframe thead th {\n",
       "        text-align: right;\n",
       "    }\n",
       "</style>\n",
       "<table border=\"1\" class=\"dataframe\">\n",
       "  <thead>\n",
       "    <tr style=\"text-align: right;\">\n",
       "      <th></th>\n",
       "      <th>Survey_id</th>\n",
       "      <th>Ville_id</th>\n",
       "      <th>sex</th>\n",
       "      <th>Age</th>\n",
       "      <th>Married</th>\n",
       "      <th>Number_children</th>\n",
       "      <th>education_level</th>\n",
       "      <th>total_members</th>\n",
       "      <th>gained_asset</th>\n",
       "      <th>durable_asset</th>\n",
       "      <th>...</th>\n",
       "      <th>incoming_salary</th>\n",
       "      <th>incoming_own_farm</th>\n",
       "      <th>incoming_business</th>\n",
       "      <th>incoming_no_business</th>\n",
       "      <th>incoming_agricultural</th>\n",
       "      <th>farm_expenses</th>\n",
       "      <th>labor_primary</th>\n",
       "      <th>lasting_investment</th>\n",
       "      <th>no_lasting_investmen</th>\n",
       "      <th>depressed</th>\n",
       "    </tr>\n",
       "  </thead>\n",
       "  <tbody>\n",
       "    <tr>\n",
       "      <th>0</th>\n",
       "      <td>926</td>\n",
       "      <td>91</td>\n",
       "      <td>1</td>\n",
       "      <td>28</td>\n",
       "      <td>1</td>\n",
       "      <td>4</td>\n",
       "      <td>10</td>\n",
       "      <td>5</td>\n",
       "      <td>28912201</td>\n",
       "      <td>22861940</td>\n",
       "      <td>...</td>\n",
       "      <td>0</td>\n",
       "      <td>0</td>\n",
       "      <td>0</td>\n",
       "      <td>0</td>\n",
       "      <td>30028818</td>\n",
       "      <td>31363432</td>\n",
       "      <td>0</td>\n",
       "      <td>28411718</td>\n",
       "      <td>28292707.0</td>\n",
       "      <td>0</td>\n",
       "    </tr>\n",
       "    <tr>\n",
       "      <th>1</th>\n",
       "      <td>747</td>\n",
       "      <td>57</td>\n",
       "      <td>1</td>\n",
       "      <td>23</td>\n",
       "      <td>1</td>\n",
       "      <td>3</td>\n",
       "      <td>8</td>\n",
       "      <td>5</td>\n",
       "      <td>28912201</td>\n",
       "      <td>22861940</td>\n",
       "      <td>...</td>\n",
       "      <td>0</td>\n",
       "      <td>0</td>\n",
       "      <td>0</td>\n",
       "      <td>0</td>\n",
       "      <td>30028818</td>\n",
       "      <td>31363432</td>\n",
       "      <td>0</td>\n",
       "      <td>28411718</td>\n",
       "      <td>28292707.0</td>\n",
       "      <td>1</td>\n",
       "    </tr>\n",
       "    <tr>\n",
       "      <th>2</th>\n",
       "      <td>1190</td>\n",
       "      <td>115</td>\n",
       "      <td>1</td>\n",
       "      <td>22</td>\n",
       "      <td>1</td>\n",
       "      <td>3</td>\n",
       "      <td>9</td>\n",
       "      <td>5</td>\n",
       "      <td>28912201</td>\n",
       "      <td>22861940</td>\n",
       "      <td>...</td>\n",
       "      <td>0</td>\n",
       "      <td>0</td>\n",
       "      <td>0</td>\n",
       "      <td>0</td>\n",
       "      <td>30028818</td>\n",
       "      <td>31363432</td>\n",
       "      <td>0</td>\n",
       "      <td>28411718</td>\n",
       "      <td>28292707.0</td>\n",
       "      <td>0</td>\n",
       "    </tr>\n",
       "    <tr>\n",
       "      <th>3</th>\n",
       "      <td>1065</td>\n",
       "      <td>97</td>\n",
       "      <td>1</td>\n",
       "      <td>27</td>\n",
       "      <td>1</td>\n",
       "      <td>2</td>\n",
       "      <td>10</td>\n",
       "      <td>4</td>\n",
       "      <td>52667108</td>\n",
       "      <td>19698904</td>\n",
       "      <td>...</td>\n",
       "      <td>0</td>\n",
       "      <td>1</td>\n",
       "      <td>0</td>\n",
       "      <td>1</td>\n",
       "      <td>22288055</td>\n",
       "      <td>18751329</td>\n",
       "      <td>0</td>\n",
       "      <td>7781123</td>\n",
       "      <td>69219765.0</td>\n",
       "      <td>0</td>\n",
       "    </tr>\n",
       "    <tr>\n",
       "      <th>4</th>\n",
       "      <td>806</td>\n",
       "      <td>42</td>\n",
       "      <td>0</td>\n",
       "      <td>59</td>\n",
       "      <td>0</td>\n",
       "      <td>4</td>\n",
       "      <td>10</td>\n",
       "      <td>6</td>\n",
       "      <td>82606287</td>\n",
       "      <td>17352654</td>\n",
       "      <td>...</td>\n",
       "      <td>1</td>\n",
       "      <td>0</td>\n",
       "      <td>0</td>\n",
       "      <td>0</td>\n",
       "      <td>53384566</td>\n",
       "      <td>20731006</td>\n",
       "      <td>1</td>\n",
       "      <td>20100562</td>\n",
       "      <td>43419447.0</td>\n",
       "      <td>0</td>\n",
       "    </tr>\n",
       "  </tbody>\n",
       "</table>\n",
       "<p>5 rows × 23 columns</p>\n",
       "</div>"
      ],
      "text/plain": [
       "   Survey_id  Ville_id  sex  Age  Married  Number_children  education_level  \\\n",
       "0        926        91    1   28        1                4               10   \n",
       "1        747        57    1   23        1                3                8   \n",
       "2       1190       115    1   22        1                3                9   \n",
       "3       1065        97    1   27        1                2               10   \n",
       "4        806        42    0   59        0                4               10   \n",
       "\n",
       "   total_members  gained_asset  durable_asset  ...  incoming_salary  \\\n",
       "0              5      28912201       22861940  ...                0   \n",
       "1              5      28912201       22861940  ...                0   \n",
       "2              5      28912201       22861940  ...                0   \n",
       "3              4      52667108       19698904  ...                0   \n",
       "4              6      82606287       17352654  ...                1   \n",
       "\n",
       "   incoming_own_farm  incoming_business  incoming_no_business  \\\n",
       "0                  0                  0                     0   \n",
       "1                  0                  0                     0   \n",
       "2                  0                  0                     0   \n",
       "3                  1                  0                     1   \n",
       "4                  0                  0                     0   \n",
       "\n",
       "   incoming_agricultural  farm_expenses  labor_primary  lasting_investment  \\\n",
       "0               30028818       31363432              0            28411718   \n",
       "1               30028818       31363432              0            28411718   \n",
       "2               30028818       31363432              0            28411718   \n",
       "3               22288055       18751329              0             7781123   \n",
       "4               53384566       20731006              1            20100562   \n",
       "\n",
       "   no_lasting_investmen  depressed  \n",
       "0            28292707.0          0  \n",
       "1            28292707.0          1  \n",
       "2            28292707.0          0  \n",
       "3            69219765.0          0  \n",
       "4            43419447.0          0  \n",
       "\n",
       "[5 rows x 23 columns]"
      ]
     },
     "execution_count": 4,
     "metadata": {},
     "output_type": "execute_result"
    }
   ],
   "source": [
    "# view the first 5 rows\n",
    "df.head(5)"
   ]
  },
  {
   "cell_type": "code",
   "execution_count": 5,
   "metadata": {
    "scrolled": true
   },
   "outputs": [
    {
     "data": {
      "text/html": [
       "<div>\n",
       "<style scoped>\n",
       "    .dataframe tbody tr th:only-of-type {\n",
       "        vertical-align: middle;\n",
       "    }\n",
       "\n",
       "    .dataframe tbody tr th {\n",
       "        vertical-align: top;\n",
       "    }\n",
       "\n",
       "    .dataframe thead th {\n",
       "        text-align: right;\n",
       "    }\n",
       "</style>\n",
       "<table border=\"1\" class=\"dataframe\">\n",
       "  <thead>\n",
       "    <tr style=\"text-align: right;\">\n",
       "      <th></th>\n",
       "      <th>Survey_id</th>\n",
       "      <th>Ville_id</th>\n",
       "      <th>sex</th>\n",
       "      <th>Age</th>\n",
       "      <th>Married</th>\n",
       "      <th>Number_children</th>\n",
       "      <th>education_level</th>\n",
       "      <th>total_members</th>\n",
       "      <th>gained_asset</th>\n",
       "      <th>durable_asset</th>\n",
       "      <th>...</th>\n",
       "      <th>incoming_salary</th>\n",
       "      <th>incoming_own_farm</th>\n",
       "      <th>incoming_business</th>\n",
       "      <th>incoming_no_business</th>\n",
       "      <th>incoming_agricultural</th>\n",
       "      <th>farm_expenses</th>\n",
       "      <th>labor_primary</th>\n",
       "      <th>lasting_investment</th>\n",
       "      <th>no_lasting_investmen</th>\n",
       "      <th>depressed</th>\n",
       "    </tr>\n",
       "  </thead>\n",
       "  <tbody>\n",
       "    <tr>\n",
       "      <th>1424</th>\n",
       "      <td>255</td>\n",
       "      <td>22</td>\n",
       "      <td>1</td>\n",
       "      <td>25</td>\n",
       "      <td>1</td>\n",
       "      <td>1</td>\n",
       "      <td>7</td>\n",
       "      <td>5</td>\n",
       "      <td>28912201</td>\n",
       "      <td>22861940</td>\n",
       "      <td>...</td>\n",
       "      <td>0</td>\n",
       "      <td>0</td>\n",
       "      <td>0</td>\n",
       "      <td>0</td>\n",
       "      <td>30028818</td>\n",
       "      <td>31363432</td>\n",
       "      <td>0</td>\n",
       "      <td>28411718</td>\n",
       "      <td>28292707.0</td>\n",
       "      <td>0</td>\n",
       "    </tr>\n",
       "    <tr>\n",
       "      <th>1425</th>\n",
       "      <td>547</td>\n",
       "      <td>69</td>\n",
       "      <td>1</td>\n",
       "      <td>28</td>\n",
       "      <td>1</td>\n",
       "      <td>4</td>\n",
       "      <td>10</td>\n",
       "      <td>6</td>\n",
       "      <td>15711078</td>\n",
       "      <td>24023054</td>\n",
       "      <td>...</td>\n",
       "      <td>0</td>\n",
       "      <td>1</td>\n",
       "      <td>0</td>\n",
       "      <td>0</td>\n",
       "      <td>23022095</td>\n",
       "      <td>1021536</td>\n",
       "      <td>0</td>\n",
       "      <td>1823477</td>\n",
       "      <td>47384361.0</td>\n",
       "      <td>0</td>\n",
       "    </tr>\n",
       "    <tr>\n",
       "      <th>1426</th>\n",
       "      <td>893</td>\n",
       "      <td>184</td>\n",
       "      <td>1</td>\n",
       "      <td>66</td>\n",
       "      <td>0</td>\n",
       "      <td>0</td>\n",
       "      <td>1</td>\n",
       "      <td>1</td>\n",
       "      <td>42440731</td>\n",
       "      <td>22861940</td>\n",
       "      <td>...</td>\n",
       "      <td>0</td>\n",
       "      <td>1</td>\n",
       "      <td>0</td>\n",
       "      <td>0</td>\n",
       "      <td>12545373</td>\n",
       "      <td>10454478</td>\n",
       "      <td>0</td>\n",
       "      <td>46444572</td>\n",
       "      <td>10454478.0</td>\n",
       "      <td>1</td>\n",
       "    </tr>\n",
       "    <tr>\n",
       "      <th>1427</th>\n",
       "      <td>363</td>\n",
       "      <td>75</td>\n",
       "      <td>1</td>\n",
       "      <td>51</td>\n",
       "      <td>1</td>\n",
       "      <td>1</td>\n",
       "      <td>12</td>\n",
       "      <td>5</td>\n",
       "      <td>28912201</td>\n",
       "      <td>22861940</td>\n",
       "      <td>...</td>\n",
       "      <td>0</td>\n",
       "      <td>0</td>\n",
       "      <td>0</td>\n",
       "      <td>0</td>\n",
       "      <td>30028818</td>\n",
       "      <td>31363432</td>\n",
       "      <td>0</td>\n",
       "      <td>28411718</td>\n",
       "      <td>28292707.0</td>\n",
       "      <td>0</td>\n",
       "    </tr>\n",
       "    <tr>\n",
       "      <th>1428</th>\n",
       "      <td>231</td>\n",
       "      <td>12</td>\n",
       "      <td>1</td>\n",
       "      <td>33</td>\n",
       "      <td>0</td>\n",
       "      <td>4</td>\n",
       "      <td>8</td>\n",
       "      <td>5</td>\n",
       "      <td>81678391</td>\n",
       "      <td>22861940</td>\n",
       "      <td>...</td>\n",
       "      <td>0</td>\n",
       "      <td>1</td>\n",
       "      <td>0</td>\n",
       "      <td>1</td>\n",
       "      <td>20019212</td>\n",
       "      <td>16682677</td>\n",
       "      <td>0</td>\n",
       "      <td>69642126</td>\n",
       "      <td>13012488.0</td>\n",
       "      <td>0</td>\n",
       "    </tr>\n",
       "  </tbody>\n",
       "</table>\n",
       "<p>5 rows × 23 columns</p>\n",
       "</div>"
      ],
      "text/plain": [
       "      Survey_id  Ville_id  sex  Age  Married  Number_children  \\\n",
       "1424        255        22    1   25        1                1   \n",
       "1425        547        69    1   28        1                4   \n",
       "1426        893       184    1   66        0                0   \n",
       "1427        363        75    1   51        1                1   \n",
       "1428        231        12    1   33        0                4   \n",
       "\n",
       "      education_level  total_members  gained_asset  durable_asset  ...  \\\n",
       "1424                7              5      28912201       22861940  ...   \n",
       "1425               10              6      15711078       24023054  ...   \n",
       "1426                1              1      42440731       22861940  ...   \n",
       "1427               12              5      28912201       22861940  ...   \n",
       "1428                8              5      81678391       22861940  ...   \n",
       "\n",
       "      incoming_salary  incoming_own_farm  incoming_business  \\\n",
       "1424                0                  0                  0   \n",
       "1425                0                  1                  0   \n",
       "1426                0                  1                  0   \n",
       "1427                0                  0                  0   \n",
       "1428                0                  1                  0   \n",
       "\n",
       "      incoming_no_business  incoming_agricultural  farm_expenses  \\\n",
       "1424                     0               30028818       31363432   \n",
       "1425                     0               23022095        1021536   \n",
       "1426                     0               12545373       10454478   \n",
       "1427                     0               30028818       31363432   \n",
       "1428                     1               20019212       16682677   \n",
       "\n",
       "      labor_primary  lasting_investment  no_lasting_investmen  depressed  \n",
       "1424              0            28411718            28292707.0          0  \n",
       "1425              0             1823477            47384361.0          0  \n",
       "1426              0            46444572            10454478.0          1  \n",
       "1427              0            28411718            28292707.0          0  \n",
       "1428              0            69642126            13012488.0          0  \n",
       "\n",
       "[5 rows x 23 columns]"
      ]
     },
     "execution_count": 5,
     "metadata": {},
     "output_type": "execute_result"
    }
   ],
   "source": [
    "# view the last 5 rows\n",
    "df.tail(5)"
   ]
  },
  {
   "cell_type": "markdown",
   "metadata": {},
   "source": [
    "### The dataset has 23 columns or dimensions and a total of 1432 rows\n",
    "###  Columns data types: float and int\n"
   ]
  },
  {
   "cell_type": "code",
   "execution_count": 6,
   "metadata": {
    "scrolled": true
   },
   "outputs": [
    {
     "name": "stdout",
     "output_type": "stream",
     "text": [
      "<class 'pandas.core.frame.DataFrame'>\n",
      "RangeIndex: 1429 entries, 0 to 1428\n",
      "Data columns (total 23 columns):\n",
      " #   Column                 Non-Null Count  Dtype  \n",
      "---  ------                 --------------  -----  \n",
      " 0   Survey_id              1429 non-null   int64  \n",
      " 1   Ville_id               1429 non-null   int64  \n",
      " 2   sex                    1429 non-null   int64  \n",
      " 3   Age                    1429 non-null   int64  \n",
      " 4   Married                1429 non-null   int64  \n",
      " 5   Number_children        1429 non-null   int64  \n",
      " 6   education_level        1429 non-null   int64  \n",
      " 7   total_members          1429 non-null   int64  \n",
      " 8   gained_asset           1429 non-null   int64  \n",
      " 9   durable_asset          1429 non-null   int64  \n",
      " 10  save_asset             1429 non-null   int64  \n",
      " 11  living_expenses        1429 non-null   int64  \n",
      " 12  other_expenses         1429 non-null   int64  \n",
      " 13  incoming_salary        1429 non-null   int64  \n",
      " 14  incoming_own_farm      1429 non-null   int64  \n",
      " 15  incoming_business      1429 non-null   int64  \n",
      " 16  incoming_no_business   1429 non-null   int64  \n",
      " 17  incoming_agricultural  1429 non-null   int64  \n",
      " 18  farm_expenses          1429 non-null   int64  \n",
      " 19  labor_primary          1429 non-null   int64  \n",
      " 20  lasting_investment     1429 non-null   int64  \n",
      " 21  no_lasting_investmen   1409 non-null   float64\n",
      " 22  depressed              1429 non-null   int64  \n",
      "dtypes: float64(1), int64(22)\n",
      "memory usage: 256.9 KB\n"
     ]
    }
   ],
   "source": [
    "df.info()"
   ]
  },
  {
   "cell_type": "markdown",
   "metadata": {},
   "source": [
    "### The total number of null values"
   ]
  },
  {
   "cell_type": "code",
   "execution_count": 7,
   "metadata": {
    "scrolled": true
   },
   "outputs": [
    {
     "data": {
      "text/plain": [
       "Survey_id                 0\n",
       "Ville_id                  0\n",
       "sex                       0\n",
       "Age                       0\n",
       "Married                   0\n",
       "Number_children           0\n",
       "education_level           0\n",
       "total_members             0\n",
       "gained_asset              0\n",
       "durable_asset             0\n",
       "save_asset                0\n",
       "living_expenses           0\n",
       "other_expenses            0\n",
       "incoming_salary           0\n",
       "incoming_own_farm         0\n",
       "incoming_business         0\n",
       "incoming_no_business      0\n",
       "incoming_agricultural     0\n",
       "farm_expenses             0\n",
       "labor_primary             0\n",
       "lasting_investment        0\n",
       "no_lasting_investmen     20\n",
       "depressed                 0\n",
       "dtype: int64"
      ]
     },
     "execution_count": 7,
     "metadata": {},
     "output_type": "execute_result"
    }
   ],
   "source": [
    "df.isnull().sum()"
   ]
  },
  {
   "cell_type": "code",
   "execution_count": null,
   "metadata": {},
   "outputs": [],
   "source": []
  },
  {
   "cell_type": "markdown",
   "metadata": {},
   "source": [
    "### Removing 20 rows with null values"
   ]
  },
  {
   "cell_type": "code",
   "execution_count": 9,
   "metadata": {
    "scrolled": true
   },
   "outputs": [
    {
     "data": {
      "text/plain": [
       "Survey_id                0\n",
       "Ville_id                 0\n",
       "sex                      0\n",
       "Age                      0\n",
       "Married                  0\n",
       "Number_children          0\n",
       "education_level          0\n",
       "total_members            0\n",
       "gained_asset             0\n",
       "durable_asset            0\n",
       "save_asset               0\n",
       "living_expenses          0\n",
       "other_expenses           0\n",
       "incoming_salary          0\n",
       "incoming_own_farm        0\n",
       "incoming_business        0\n",
       "incoming_no_business     0\n",
       "incoming_agricultural    0\n",
       "farm_expenses            0\n",
       "labor_primary            0\n",
       "lasting_investment       0\n",
       "no_lasting_investmen     0\n",
       "depressed                0\n",
       "dtype: int64"
      ]
     },
     "execution_count": 9,
     "metadata": {},
     "output_type": "execute_result"
    }
   ],
   "source": [
    "df.drop(df[(df['no_lasting_investmen'].isnull())].index, axis = 0, inplace = True)\n",
    "df.isnull().sum()"
   ]
  },
  {
   "cell_type": "markdown",
   "metadata": {},
   "source": [
    "### The number of row now is 1409"
   ]
  },
  {
   "cell_type": "code",
   "execution_count": 7,
   "metadata": {
    "scrolled": true
   },
   "outputs": [
    {
     "name": "stdout",
     "output_type": "stream",
     "text": [
      "<class 'pandas.core.frame.DataFrame'>\n",
      "RangeIndex: 1429 entries, 0 to 1428\n",
      "Data columns (total 23 columns):\n",
      " #   Column                 Non-Null Count  Dtype  \n",
      "---  ------                 --------------  -----  \n",
      " 0   Survey_id              1429 non-null   int64  \n",
      " 1   Ville_id               1429 non-null   int64  \n",
      " 2   sex                    1429 non-null   int64  \n",
      " 3   Age                    1429 non-null   int64  \n",
      " 4   Married                1429 non-null   int64  \n",
      " 5   Number_children        1429 non-null   int64  \n",
      " 6   education_level        1429 non-null   int64  \n",
      " 7   total_members          1429 non-null   int64  \n",
      " 8   gained_asset           1429 non-null   int64  \n",
      " 9   durable_asset          1429 non-null   int64  \n",
      " 10  save_asset             1429 non-null   int64  \n",
      " 11  living_expenses        1429 non-null   int64  \n",
      " 12  other_expenses         1429 non-null   int64  \n",
      " 13  incoming_salary        1429 non-null   int64  \n",
      " 14  incoming_own_farm      1429 non-null   int64  \n",
      " 15  incoming_business      1429 non-null   int64  \n",
      " 16  incoming_no_business   1429 non-null   int64  \n",
      " 17  incoming_agricultural  1429 non-null   int64  \n",
      " 18  farm_expenses          1429 non-null   int64  \n",
      " 19  labor_primary          1429 non-null   int64  \n",
      " 20  lasting_investment     1429 non-null   int64  \n",
      " 21  no_lasting_investmen   1409 non-null   float64\n",
      " 22  depressed              1429 non-null   int64  \n",
      "dtypes: float64(1), int64(22)\n",
      "memory usage: 256.9 KB\n"
     ]
    }
   ],
   "source": [
    "df.info()"
   ]
  },
  {
   "cell_type": "code",
   "execution_count": null,
   "metadata": {},
   "outputs": [],
   "source": []
  },
  {
   "cell_type": "markdown",
   "metadata": {},
   "source": [
    "###  Provides a statistical summary of the numerical columns in a DataFrame."
   ]
  },
  {
   "cell_type": "code",
   "execution_count": 8,
   "metadata": {
    "scrolled": true
   },
   "outputs": [
    {
     "data": {
      "text/html": [
       "<div>\n",
       "<style scoped>\n",
       "    .dataframe tbody tr th:only-of-type {\n",
       "        vertical-align: middle;\n",
       "    }\n",
       "\n",
       "    .dataframe tbody tr th {\n",
       "        vertical-align: top;\n",
       "    }\n",
       "\n",
       "    .dataframe thead th {\n",
       "        text-align: right;\n",
       "    }\n",
       "</style>\n",
       "<table border=\"1\" class=\"dataframe\">\n",
       "  <thead>\n",
       "    <tr style=\"text-align: right;\">\n",
       "      <th></th>\n",
       "      <th>Survey_id</th>\n",
       "      <th>Ville_id</th>\n",
       "      <th>sex</th>\n",
       "      <th>Age</th>\n",
       "      <th>Married</th>\n",
       "      <th>Number_children</th>\n",
       "      <th>education_level</th>\n",
       "      <th>total_members</th>\n",
       "      <th>gained_asset</th>\n",
       "      <th>durable_asset</th>\n",
       "      <th>...</th>\n",
       "      <th>incoming_salary</th>\n",
       "      <th>incoming_own_farm</th>\n",
       "      <th>incoming_business</th>\n",
       "      <th>incoming_no_business</th>\n",
       "      <th>incoming_agricultural</th>\n",
       "      <th>farm_expenses</th>\n",
       "      <th>labor_primary</th>\n",
       "      <th>lasting_investment</th>\n",
       "      <th>no_lasting_investmen</th>\n",
       "      <th>depressed</th>\n",
       "    </tr>\n",
       "  </thead>\n",
       "  <tbody>\n",
       "    <tr>\n",
       "      <th>count</th>\n",
       "      <td>1429.00000</td>\n",
       "      <td>1429.000000</td>\n",
       "      <td>1429.000000</td>\n",
       "      <td>1429.000000</td>\n",
       "      <td>1429.000000</td>\n",
       "      <td>1429.000000</td>\n",
       "      <td>1429.000000</td>\n",
       "      <td>1429.000000</td>\n",
       "      <td>1.429000e+03</td>\n",
       "      <td>1.429000e+03</td>\n",
       "      <td>...</td>\n",
       "      <td>1429.000000</td>\n",
       "      <td>1429.000000</td>\n",
       "      <td>1429.000000</td>\n",
       "      <td>1429.000000</td>\n",
       "      <td>1.429000e+03</td>\n",
       "      <td>1.429000e+03</td>\n",
       "      <td>1429.000000</td>\n",
       "      <td>1.429000e+03</td>\n",
       "      <td>1.409000e+03</td>\n",
       "      <td>1429.000000</td>\n",
       "    </tr>\n",
       "    <tr>\n",
       "      <th>mean</th>\n",
       "      <td>715.00000</td>\n",
       "      <td>76.286214</td>\n",
       "      <td>0.918125</td>\n",
       "      <td>34.777467</td>\n",
       "      <td>0.772568</td>\n",
       "      <td>2.883135</td>\n",
       "      <td>8.687194</td>\n",
       "      <td>4.969209</td>\n",
       "      <td>3.363448e+07</td>\n",
       "      <td>2.717296e+07</td>\n",
       "      <td>...</td>\n",
       "      <td>0.179846</td>\n",
       "      <td>0.251924</td>\n",
       "      <td>0.107768</td>\n",
       "      <td>0.260322</td>\n",
       "      <td>3.451039e+07</td>\n",
       "      <td>3.549153e+07</td>\n",
       "      <td>0.213436</td>\n",
       "      <td>3.299222e+07</td>\n",
       "      <td>3.360385e+07</td>\n",
       "      <td>0.166550</td>\n",
       "    </tr>\n",
       "    <tr>\n",
       "      <th>std</th>\n",
       "      <td>412.66108</td>\n",
       "      <td>66.444012</td>\n",
       "      <td>0.274271</td>\n",
       "      <td>13.986219</td>\n",
       "      <td>0.419320</td>\n",
       "      <td>1.874472</td>\n",
       "      <td>2.923532</td>\n",
       "      <td>1.786317</td>\n",
       "      <td>2.003854e+07</td>\n",
       "      <td>1.815672e+07</td>\n",
       "      <td>...</td>\n",
       "      <td>0.384194</td>\n",
       "      <td>0.434270</td>\n",
       "      <td>0.310195</td>\n",
       "      <td>0.438964</td>\n",
       "      <td>2.077846e+07</td>\n",
       "      <td>2.112372e+07</td>\n",
       "      <td>0.409876</td>\n",
       "      <td>2.121621e+07</td>\n",
       "      <td>2.160228e+07</td>\n",
       "      <td>0.372704</td>\n",
       "    </tr>\n",
       "    <tr>\n",
       "      <th>min</th>\n",
       "      <td>1.00000</td>\n",
       "      <td>1.000000</td>\n",
       "      <td>0.000000</td>\n",
       "      <td>17.000000</td>\n",
       "      <td>0.000000</td>\n",
       "      <td>0.000000</td>\n",
       "      <td>1.000000</td>\n",
       "      <td>1.000000</td>\n",
       "      <td>3.251120e+05</td>\n",
       "      <td>1.625560e+05</td>\n",
       "      <td>...</td>\n",
       "      <td>0.000000</td>\n",
       "      <td>0.000000</td>\n",
       "      <td>0.000000</td>\n",
       "      <td>0.000000</td>\n",
       "      <td>3.251120e+05</td>\n",
       "      <td>2.715050e+05</td>\n",
       "      <td>0.000000</td>\n",
       "      <td>7.429200e+04</td>\n",
       "      <td>1.263120e+05</td>\n",
       "      <td>0.000000</td>\n",
       "    </tr>\n",
       "    <tr>\n",
       "      <th>25%</th>\n",
       "      <td>358.00000</td>\n",
       "      <td>24.000000</td>\n",
       "      <td>1.000000</td>\n",
       "      <td>25.000000</td>\n",
       "      <td>1.000000</td>\n",
       "      <td>2.000000</td>\n",
       "      <td>8.000000</td>\n",
       "      <td>4.000000</td>\n",
       "      <td>2.326982e+07</td>\n",
       "      <td>1.929852e+07</td>\n",
       "      <td>...</td>\n",
       "      <td>0.000000</td>\n",
       "      <td>0.000000</td>\n",
       "      <td>0.000000</td>\n",
       "      <td>0.000000</td>\n",
       "      <td>2.322229e+07</td>\n",
       "      <td>2.279966e+07</td>\n",
       "      <td>0.000000</td>\n",
       "      <td>2.001911e+07</td>\n",
       "      <td>2.064203e+07</td>\n",
       "      <td>0.000000</td>\n",
       "    </tr>\n",
       "    <tr>\n",
       "      <th>50%</th>\n",
       "      <td>715.00000</td>\n",
       "      <td>57.000000</td>\n",
       "      <td>1.000000</td>\n",
       "      <td>30.000000</td>\n",
       "      <td>1.000000</td>\n",
       "      <td>3.000000</td>\n",
       "      <td>9.000000</td>\n",
       "      <td>5.000000</td>\n",
       "      <td>2.891220e+07</td>\n",
       "      <td>2.286194e+07</td>\n",
       "      <td>...</td>\n",
       "      <td>0.000000</td>\n",
       "      <td>0.000000</td>\n",
       "      <td>0.000000</td>\n",
       "      <td>0.000000</td>\n",
       "      <td>3.002882e+07</td>\n",
       "      <td>3.136343e+07</td>\n",
       "      <td>0.000000</td>\n",
       "      <td>2.841172e+07</td>\n",
       "      <td>2.829271e+07</td>\n",
       "      <td>0.000000</td>\n",
       "    </tr>\n",
       "    <tr>\n",
       "      <th>75%</th>\n",
       "      <td>1072.00000</td>\n",
       "      <td>105.000000</td>\n",
       "      <td>1.000000</td>\n",
       "      <td>42.000000</td>\n",
       "      <td>1.000000</td>\n",
       "      <td>4.000000</td>\n",
       "      <td>10.000000</td>\n",
       "      <td>6.000000</td>\n",
       "      <td>3.717283e+07</td>\n",
       "      <td>2.656950e+07</td>\n",
       "      <td>...</td>\n",
       "      <td>0.000000</td>\n",
       "      <td>1.000000</td>\n",
       "      <td>0.000000</td>\n",
       "      <td>1.000000</td>\n",
       "      <td>4.003842e+07</td>\n",
       "      <td>4.348584e+07</td>\n",
       "      <td>0.000000</td>\n",
       "      <td>3.982686e+07</td>\n",
       "      <td>4.151762e+07</td>\n",
       "      <td>0.000000</td>\n",
       "    </tr>\n",
       "    <tr>\n",
       "      <th>max</th>\n",
       "      <td>1429.00000</td>\n",
       "      <td>292.000000</td>\n",
       "      <td>1.000000</td>\n",
       "      <td>91.000000</td>\n",
       "      <td>1.000000</td>\n",
       "      <td>11.000000</td>\n",
       "      <td>19.000000</td>\n",
       "      <td>12.000000</td>\n",
       "      <td>9.912755e+07</td>\n",
       "      <td>9.961560e+07</td>\n",
       "      <td>...</td>\n",
       "      <td>1.000000</td>\n",
       "      <td>1.000000</td>\n",
       "      <td>1.000000</td>\n",
       "      <td>1.000000</td>\n",
       "      <td>9.978910e+07</td>\n",
       "      <td>9.965119e+07</td>\n",
       "      <td>1.000000</td>\n",
       "      <td>9.944667e+07</td>\n",
       "      <td>9.965119e+07</td>\n",
       "      <td>1.000000</td>\n",
       "    </tr>\n",
       "  </tbody>\n",
       "</table>\n",
       "<p>8 rows × 23 columns</p>\n",
       "</div>"
      ],
      "text/plain": [
       "        Survey_id     Ville_id          sex          Age      Married  \\\n",
       "count  1429.00000  1429.000000  1429.000000  1429.000000  1429.000000   \n",
       "mean    715.00000    76.286214     0.918125    34.777467     0.772568   \n",
       "std     412.66108    66.444012     0.274271    13.986219     0.419320   \n",
       "min       1.00000     1.000000     0.000000    17.000000     0.000000   \n",
       "25%     358.00000    24.000000     1.000000    25.000000     1.000000   \n",
       "50%     715.00000    57.000000     1.000000    30.000000     1.000000   \n",
       "75%    1072.00000   105.000000     1.000000    42.000000     1.000000   \n",
       "max    1429.00000   292.000000     1.000000    91.000000     1.000000   \n",
       "\n",
       "       Number_children  education_level  total_members  gained_asset  \\\n",
       "count      1429.000000      1429.000000    1429.000000  1.429000e+03   \n",
       "mean          2.883135         8.687194       4.969209  3.363448e+07   \n",
       "std           1.874472         2.923532       1.786317  2.003854e+07   \n",
       "min           0.000000         1.000000       1.000000  3.251120e+05   \n",
       "25%           2.000000         8.000000       4.000000  2.326982e+07   \n",
       "50%           3.000000         9.000000       5.000000  2.891220e+07   \n",
       "75%           4.000000        10.000000       6.000000  3.717283e+07   \n",
       "max          11.000000        19.000000      12.000000  9.912755e+07   \n",
       "\n",
       "       durable_asset  ...  incoming_salary  incoming_own_farm  \\\n",
       "count   1.429000e+03  ...      1429.000000        1429.000000   \n",
       "mean    2.717296e+07  ...         0.179846           0.251924   \n",
       "std     1.815672e+07  ...         0.384194           0.434270   \n",
       "min     1.625560e+05  ...         0.000000           0.000000   \n",
       "25%     1.929852e+07  ...         0.000000           0.000000   \n",
       "50%     2.286194e+07  ...         0.000000           0.000000   \n",
       "75%     2.656950e+07  ...         0.000000           1.000000   \n",
       "max     9.961560e+07  ...         1.000000           1.000000   \n",
       "\n",
       "       incoming_business  incoming_no_business  incoming_agricultural  \\\n",
       "count        1429.000000           1429.000000           1.429000e+03   \n",
       "mean            0.107768              0.260322           3.451039e+07   \n",
       "std             0.310195              0.438964           2.077846e+07   \n",
       "min             0.000000              0.000000           3.251120e+05   \n",
       "25%             0.000000              0.000000           2.322229e+07   \n",
       "50%             0.000000              0.000000           3.002882e+07   \n",
       "75%             0.000000              1.000000           4.003842e+07   \n",
       "max             1.000000              1.000000           9.978910e+07   \n",
       "\n",
       "       farm_expenses  labor_primary  lasting_investment  no_lasting_investmen  \\\n",
       "count   1.429000e+03    1429.000000        1.429000e+03          1.409000e+03   \n",
       "mean    3.549153e+07       0.213436        3.299222e+07          3.360385e+07   \n",
       "std     2.112372e+07       0.409876        2.121621e+07          2.160228e+07   \n",
       "min     2.715050e+05       0.000000        7.429200e+04          1.263120e+05   \n",
       "25%     2.279966e+07       0.000000        2.001911e+07          2.064203e+07   \n",
       "50%     3.136343e+07       0.000000        2.841172e+07          2.829271e+07   \n",
       "75%     4.348584e+07       0.000000        3.982686e+07          4.151762e+07   \n",
       "max     9.965119e+07       1.000000        9.944667e+07          9.965119e+07   \n",
       "\n",
       "         depressed  \n",
       "count  1429.000000  \n",
       "mean      0.166550  \n",
       "std       0.372704  \n",
       "min       0.000000  \n",
       "25%       0.000000  \n",
       "50%       0.000000  \n",
       "75%       0.000000  \n",
       "max       1.000000  \n",
       "\n",
       "[8 rows x 23 columns]"
      ]
     },
     "execution_count": 8,
     "metadata": {},
     "output_type": "execute_result"
    }
   ],
   "source": [
    "df.describe()"
   ]
  },
  {
   "cell_type": "code",
   "execution_count": null,
   "metadata": {},
   "outputs": [],
   "source": []
  },
  {
   "cell_type": "markdown",
   "metadata": {},
   "source": [
    "###  Provides a statistical summary of the numerical columns in a DataFrame for each column"
   ]
  },
  {
   "cell_type": "code",
   "execution_count": 9,
   "metadata": {
    "scrolled": true
   },
   "outputs": [
    {
     "data": {
      "text/html": [
       "<div>\n",
       "<style scoped>\n",
       "    .dataframe tbody tr th:only-of-type {\n",
       "        vertical-align: middle;\n",
       "    }\n",
       "\n",
       "    .dataframe tbody tr th {\n",
       "        vertical-align: top;\n",
       "    }\n",
       "\n",
       "    .dataframe thead th {\n",
       "        text-align: right;\n",
       "    }\n",
       "</style>\n",
       "<table border=\"1\" class=\"dataframe\">\n",
       "  <thead>\n",
       "    <tr style=\"text-align: right;\">\n",
       "      <th></th>\n",
       "      <th>Survey_id</th>\n",
       "      <th>Ville_id</th>\n",
       "      <th>sex</th>\n",
       "      <th>Age</th>\n",
       "      <th>Married</th>\n",
       "      <th>Number_children</th>\n",
       "      <th>education_level</th>\n",
       "      <th>total_members</th>\n",
       "      <th>gained_asset</th>\n",
       "      <th>durable_asset</th>\n",
       "      <th>...</th>\n",
       "      <th>incoming_salary</th>\n",
       "      <th>incoming_own_farm</th>\n",
       "      <th>incoming_business</th>\n",
       "      <th>incoming_no_business</th>\n",
       "      <th>incoming_agricultural</th>\n",
       "      <th>farm_expenses</th>\n",
       "      <th>labor_primary</th>\n",
       "      <th>lasting_investment</th>\n",
       "      <th>no_lasting_investmen</th>\n",
       "      <th>depressed</th>\n",
       "    </tr>\n",
       "  </thead>\n",
       "  <tbody>\n",
       "    <tr>\n",
       "      <th>count</th>\n",
       "      <td>1429.00000</td>\n",
       "      <td>1429.000000</td>\n",
       "      <td>1429.000000</td>\n",
       "      <td>1429.000000</td>\n",
       "      <td>1429.000000</td>\n",
       "      <td>1429.000000</td>\n",
       "      <td>1429.000000</td>\n",
       "      <td>1429.000000</td>\n",
       "      <td>1.429000e+03</td>\n",
       "      <td>1.429000e+03</td>\n",
       "      <td>...</td>\n",
       "      <td>1429.000000</td>\n",
       "      <td>1429.000000</td>\n",
       "      <td>1429.000000</td>\n",
       "      <td>1429.000000</td>\n",
       "      <td>1.429000e+03</td>\n",
       "      <td>1.429000e+03</td>\n",
       "      <td>1429.000000</td>\n",
       "      <td>1.429000e+03</td>\n",
       "      <td>1.409000e+03</td>\n",
       "      <td>1429.000000</td>\n",
       "    </tr>\n",
       "    <tr>\n",
       "      <th>mean</th>\n",
       "      <td>715.00000</td>\n",
       "      <td>76.286214</td>\n",
       "      <td>0.918125</td>\n",
       "      <td>34.777467</td>\n",
       "      <td>0.772568</td>\n",
       "      <td>2.883135</td>\n",
       "      <td>8.687194</td>\n",
       "      <td>4.969209</td>\n",
       "      <td>3.363448e+07</td>\n",
       "      <td>2.717296e+07</td>\n",
       "      <td>...</td>\n",
       "      <td>0.179846</td>\n",
       "      <td>0.251924</td>\n",
       "      <td>0.107768</td>\n",
       "      <td>0.260322</td>\n",
       "      <td>3.451039e+07</td>\n",
       "      <td>3.549153e+07</td>\n",
       "      <td>0.213436</td>\n",
       "      <td>3.299222e+07</td>\n",
       "      <td>3.360385e+07</td>\n",
       "      <td>0.166550</td>\n",
       "    </tr>\n",
       "    <tr>\n",
       "      <th>std</th>\n",
       "      <td>412.66108</td>\n",
       "      <td>66.444012</td>\n",
       "      <td>0.274271</td>\n",
       "      <td>13.986219</td>\n",
       "      <td>0.419320</td>\n",
       "      <td>1.874472</td>\n",
       "      <td>2.923532</td>\n",
       "      <td>1.786317</td>\n",
       "      <td>2.003854e+07</td>\n",
       "      <td>1.815672e+07</td>\n",
       "      <td>...</td>\n",
       "      <td>0.384194</td>\n",
       "      <td>0.434270</td>\n",
       "      <td>0.310195</td>\n",
       "      <td>0.438964</td>\n",
       "      <td>2.077846e+07</td>\n",
       "      <td>2.112372e+07</td>\n",
       "      <td>0.409876</td>\n",
       "      <td>2.121621e+07</td>\n",
       "      <td>2.160228e+07</td>\n",
       "      <td>0.372704</td>\n",
       "    </tr>\n",
       "    <tr>\n",
       "      <th>min</th>\n",
       "      <td>1.00000</td>\n",
       "      <td>1.000000</td>\n",
       "      <td>0.000000</td>\n",
       "      <td>17.000000</td>\n",
       "      <td>0.000000</td>\n",
       "      <td>0.000000</td>\n",
       "      <td>1.000000</td>\n",
       "      <td>1.000000</td>\n",
       "      <td>3.251120e+05</td>\n",
       "      <td>1.625560e+05</td>\n",
       "      <td>...</td>\n",
       "      <td>0.000000</td>\n",
       "      <td>0.000000</td>\n",
       "      <td>0.000000</td>\n",
       "      <td>0.000000</td>\n",
       "      <td>3.251120e+05</td>\n",
       "      <td>2.715050e+05</td>\n",
       "      <td>0.000000</td>\n",
       "      <td>7.429200e+04</td>\n",
       "      <td>1.263120e+05</td>\n",
       "      <td>0.000000</td>\n",
       "    </tr>\n",
       "    <tr>\n",
       "      <th>25%</th>\n",
       "      <td>358.00000</td>\n",
       "      <td>24.000000</td>\n",
       "      <td>1.000000</td>\n",
       "      <td>25.000000</td>\n",
       "      <td>1.000000</td>\n",
       "      <td>2.000000</td>\n",
       "      <td>8.000000</td>\n",
       "      <td>4.000000</td>\n",
       "      <td>2.326982e+07</td>\n",
       "      <td>1.929852e+07</td>\n",
       "      <td>...</td>\n",
       "      <td>0.000000</td>\n",
       "      <td>0.000000</td>\n",
       "      <td>0.000000</td>\n",
       "      <td>0.000000</td>\n",
       "      <td>2.322229e+07</td>\n",
       "      <td>2.279966e+07</td>\n",
       "      <td>0.000000</td>\n",
       "      <td>2.001911e+07</td>\n",
       "      <td>2.064203e+07</td>\n",
       "      <td>0.000000</td>\n",
       "    </tr>\n",
       "    <tr>\n",
       "      <th>50%</th>\n",
       "      <td>715.00000</td>\n",
       "      <td>57.000000</td>\n",
       "      <td>1.000000</td>\n",
       "      <td>30.000000</td>\n",
       "      <td>1.000000</td>\n",
       "      <td>3.000000</td>\n",
       "      <td>9.000000</td>\n",
       "      <td>5.000000</td>\n",
       "      <td>2.891220e+07</td>\n",
       "      <td>2.286194e+07</td>\n",
       "      <td>...</td>\n",
       "      <td>0.000000</td>\n",
       "      <td>0.000000</td>\n",
       "      <td>0.000000</td>\n",
       "      <td>0.000000</td>\n",
       "      <td>3.002882e+07</td>\n",
       "      <td>3.136343e+07</td>\n",
       "      <td>0.000000</td>\n",
       "      <td>2.841172e+07</td>\n",
       "      <td>2.829271e+07</td>\n",
       "      <td>0.000000</td>\n",
       "    </tr>\n",
       "    <tr>\n",
       "      <th>75%</th>\n",
       "      <td>1072.00000</td>\n",
       "      <td>105.000000</td>\n",
       "      <td>1.000000</td>\n",
       "      <td>42.000000</td>\n",
       "      <td>1.000000</td>\n",
       "      <td>4.000000</td>\n",
       "      <td>10.000000</td>\n",
       "      <td>6.000000</td>\n",
       "      <td>3.717283e+07</td>\n",
       "      <td>2.656950e+07</td>\n",
       "      <td>...</td>\n",
       "      <td>0.000000</td>\n",
       "      <td>1.000000</td>\n",
       "      <td>0.000000</td>\n",
       "      <td>1.000000</td>\n",
       "      <td>4.003842e+07</td>\n",
       "      <td>4.348584e+07</td>\n",
       "      <td>0.000000</td>\n",
       "      <td>3.982686e+07</td>\n",
       "      <td>4.151762e+07</td>\n",
       "      <td>0.000000</td>\n",
       "    </tr>\n",
       "    <tr>\n",
       "      <th>max</th>\n",
       "      <td>1429.00000</td>\n",
       "      <td>292.000000</td>\n",
       "      <td>1.000000</td>\n",
       "      <td>91.000000</td>\n",
       "      <td>1.000000</td>\n",
       "      <td>11.000000</td>\n",
       "      <td>19.000000</td>\n",
       "      <td>12.000000</td>\n",
       "      <td>9.912755e+07</td>\n",
       "      <td>9.961560e+07</td>\n",
       "      <td>...</td>\n",
       "      <td>1.000000</td>\n",
       "      <td>1.000000</td>\n",
       "      <td>1.000000</td>\n",
       "      <td>1.000000</td>\n",
       "      <td>9.978910e+07</td>\n",
       "      <td>9.965119e+07</td>\n",
       "      <td>1.000000</td>\n",
       "      <td>9.944667e+07</td>\n",
       "      <td>9.965119e+07</td>\n",
       "      <td>1.000000</td>\n",
       "    </tr>\n",
       "  </tbody>\n",
       "</table>\n",
       "<p>8 rows × 23 columns</p>\n",
       "</div>"
      ],
      "text/plain": [
       "        Survey_id     Ville_id          sex          Age      Married  \\\n",
       "count  1429.00000  1429.000000  1429.000000  1429.000000  1429.000000   \n",
       "mean    715.00000    76.286214     0.918125    34.777467     0.772568   \n",
       "std     412.66108    66.444012     0.274271    13.986219     0.419320   \n",
       "min       1.00000     1.000000     0.000000    17.000000     0.000000   \n",
       "25%     358.00000    24.000000     1.000000    25.000000     1.000000   \n",
       "50%     715.00000    57.000000     1.000000    30.000000     1.000000   \n",
       "75%    1072.00000   105.000000     1.000000    42.000000     1.000000   \n",
       "max    1429.00000   292.000000     1.000000    91.000000     1.000000   \n",
       "\n",
       "       Number_children  education_level  total_members  gained_asset  \\\n",
       "count      1429.000000      1429.000000    1429.000000  1.429000e+03   \n",
       "mean          2.883135         8.687194       4.969209  3.363448e+07   \n",
       "std           1.874472         2.923532       1.786317  2.003854e+07   \n",
       "min           0.000000         1.000000       1.000000  3.251120e+05   \n",
       "25%           2.000000         8.000000       4.000000  2.326982e+07   \n",
       "50%           3.000000         9.000000       5.000000  2.891220e+07   \n",
       "75%           4.000000        10.000000       6.000000  3.717283e+07   \n",
       "max          11.000000        19.000000      12.000000  9.912755e+07   \n",
       "\n",
       "       durable_asset  ...  incoming_salary  incoming_own_farm  \\\n",
       "count   1.429000e+03  ...      1429.000000        1429.000000   \n",
       "mean    2.717296e+07  ...         0.179846           0.251924   \n",
       "std     1.815672e+07  ...         0.384194           0.434270   \n",
       "min     1.625560e+05  ...         0.000000           0.000000   \n",
       "25%     1.929852e+07  ...         0.000000           0.000000   \n",
       "50%     2.286194e+07  ...         0.000000           0.000000   \n",
       "75%     2.656950e+07  ...         0.000000           1.000000   \n",
       "max     9.961560e+07  ...         1.000000           1.000000   \n",
       "\n",
       "       incoming_business  incoming_no_business  incoming_agricultural  \\\n",
       "count        1429.000000           1429.000000           1.429000e+03   \n",
       "mean            0.107768              0.260322           3.451039e+07   \n",
       "std             0.310195              0.438964           2.077846e+07   \n",
       "min             0.000000              0.000000           3.251120e+05   \n",
       "25%             0.000000              0.000000           2.322229e+07   \n",
       "50%             0.000000              0.000000           3.002882e+07   \n",
       "75%             0.000000              1.000000           4.003842e+07   \n",
       "max             1.000000              1.000000           9.978910e+07   \n",
       "\n",
       "       farm_expenses  labor_primary  lasting_investment  no_lasting_investmen  \\\n",
       "count   1.429000e+03    1429.000000        1.429000e+03          1.409000e+03   \n",
       "mean    3.549153e+07       0.213436        3.299222e+07          3.360385e+07   \n",
       "std     2.112372e+07       0.409876        2.121621e+07          2.160228e+07   \n",
       "min     2.715050e+05       0.000000        7.429200e+04          1.263120e+05   \n",
       "25%     2.279966e+07       0.000000        2.001911e+07          2.064203e+07   \n",
       "50%     3.136343e+07       0.000000        2.841172e+07          2.829271e+07   \n",
       "75%     4.348584e+07       0.000000        3.982686e+07          4.151762e+07   \n",
       "max     9.965119e+07       1.000000        9.944667e+07          9.965119e+07   \n",
       "\n",
       "         depressed  \n",
       "count  1429.000000  \n",
       "mean      0.166550  \n",
       "std       0.372704  \n",
       "min       0.000000  \n",
       "25%       0.000000  \n",
       "50%       0.000000  \n",
       "75%       0.000000  \n",
       "max       1.000000  \n",
       "\n",
       "[8 rows x 23 columns]"
      ]
     },
     "execution_count": 9,
     "metadata": {},
     "output_type": "execute_result"
    }
   ],
   "source": [
    "df.describe(include=\"all\")"
   ]
  },
  {
   "cell_type": "code",
   "execution_count": null,
   "metadata": {},
   "outputs": [],
   "source": []
  },
  {
   "cell_type": "markdown",
   "metadata": {},
   "source": [
    "### Check the duplicated values"
   ]
  },
  {
   "cell_type": "code",
   "execution_count": 13,
   "metadata": {
    "scrolled": true
   },
   "outputs": [
    {
     "data": {
      "text/html": [
       "<div>\n",
       "<style scoped>\n",
       "    .dataframe tbody tr th:only-of-type {\n",
       "        vertical-align: middle;\n",
       "    }\n",
       "\n",
       "    .dataframe tbody tr th {\n",
       "        vertical-align: top;\n",
       "    }\n",
       "\n",
       "    .dataframe thead th {\n",
       "        text-align: right;\n",
       "    }\n",
       "</style>\n",
       "<table border=\"1\" class=\"dataframe\">\n",
       "  <thead>\n",
       "    <tr style=\"text-align: right;\">\n",
       "      <th></th>\n",
       "      <th>Survey_id</th>\n",
       "      <th>Ville_id</th>\n",
       "      <th>sex</th>\n",
       "      <th>Age</th>\n",
       "      <th>Married</th>\n",
       "      <th>Number_children</th>\n",
       "      <th>education_level</th>\n",
       "      <th>total_members</th>\n",
       "      <th>gained_asset</th>\n",
       "      <th>durable_asset</th>\n",
       "      <th>...</th>\n",
       "      <th>incoming_salary</th>\n",
       "      <th>incoming_own_farm</th>\n",
       "      <th>incoming_business</th>\n",
       "      <th>incoming_no_business</th>\n",
       "      <th>incoming_agricultural</th>\n",
       "      <th>farm_expenses</th>\n",
       "      <th>labor_primary</th>\n",
       "      <th>lasting_investment</th>\n",
       "      <th>no_lasting_investmen</th>\n",
       "      <th>depressed</th>\n",
       "    </tr>\n",
       "  </thead>\n",
       "  <tbody>\n",
       "  </tbody>\n",
       "</table>\n",
       "<p>0 rows × 23 columns</p>\n",
       "</div>"
      ],
      "text/plain": [
       "Empty DataFrame\n",
       "Columns: [Survey_id, Ville_id, sex, Age, Married, Number_children, education_level, total_members, gained_asset, durable_asset, save_asset, living_expenses, other_expenses, incoming_salary, incoming_own_farm, incoming_business, incoming_no_business, incoming_agricultural, farm_expenses, labor_primary, lasting_investment, no_lasting_investmen, depressed]\n",
       "Index: []\n",
       "\n",
       "[0 rows x 23 columns]"
      ]
     },
     "execution_count": 13,
     "metadata": {},
     "output_type": "execute_result"
    }
   ],
   "source": [
    "df[df.duplicated()] # no duplicate"
   ]
  },
  {
   "cell_type": "markdown",
   "metadata": {},
   "source": [
    "### Change the value of depressed column"
   ]
  },
  {
   "cell_type": "code",
   "execution_count": 10,
   "metadata": {},
   "outputs": [
    {
     "data": {
      "text/plain": [
       "array([0, 1], dtype=int64)"
      ]
     },
     "execution_count": 10,
     "metadata": {},
     "output_type": "execute_result"
    }
   ],
   "source": [
    "df['depressed'].unique()"
   ]
  },
  {
   "cell_type": "code",
   "execution_count": 11,
   "metadata": {},
   "outputs": [],
   "source": [
    "df['depressed'].mask(df['depressed'] ==0 ,'No depressed', inplace=True)\n",
    "df['depressed'].mask(df['depressed'] ==1 ,'depressed', inplace=True)"
   ]
  },
  {
   "cell_type": "code",
   "execution_count": 22,
   "metadata": {},
   "outputs": [
    {
     "data": {
      "text/plain": [
       "array(['No depressed', 'depressed'], dtype=object)"
      ]
     },
     "execution_count": 22,
     "metadata": {},
     "output_type": "execute_result"
    }
   ],
   "source": [
    "df['depressed'].unique()"
   ]
  },
  {
   "cell_type": "markdown",
   "metadata": {},
   "source": [
    "### Are there any ages that are more depressed than others?"
   ]
  },
  {
   "cell_type": "code",
   "execution_count": 60,
   "metadata": {
    "scrolled": true
   },
   "outputs": [
    {
     "data": {
      "image/png": "[encoded data removed]",
      "text/plain": [
       "<Figure size 1000x400 with 1 Axes>"
      ]
     },
     "metadata": {},
     "output_type": "display_data"
    }
   ],
   "source": [
    "plt.style.use('fivethirtyeight')\n",
    "\n",
    "# Define figure size\n",
    "plt.figure(figsize=[10,4])\n",
    "\n",
    "# Plot the histogram\n",
    "plt.hist(df['Age'], bins=20)\n",
    "\n",
    "# Set x-axis label and font size\n",
    "plt.xlabel('Age', fontsize=12)\n",
    "\n",
    "# Set y-axis label and font size\n",
    "plt.ylabel('Frequency', fontsize=12)\n",
    "\n",
    "# Set plot title and font size\n",
    "plt.title('Age Distribution', fontsize=14)\n",
    "\n",
    "# Add legend\n",
    "plt.legend(['Age'], loc='best', fontsize=20)\n",
    "\n",
    "# Show the plot\n",
    "plt.show()\n"
   ]
  },
  {
   "cell_type": "markdown",
   "metadata": {},
   "source": [
    "### Which marital status has the highest distribution"
   ]
  },
  {
   "cell_type": "code",
   "execution_count": 79,
   "metadata": {},
   "outputs": [
    {
     "data": {
      "image/png": "[encoded data removed]",
      "text/plain": [
       "<Figure size 1000x600 with 1 Axes>"
      ]
     },
     "metadata": {},
     "output_type": "display_data"
    }
   ],
   "source": [
    "# Calculate the value counts for 'Married' column\n",
    "married_counts = df['Married'].value_counts()\n",
    "plt.style.use('fivethirtyeight')\n",
    "\n",
    "# Define figure size\n",
    "plt.figure(figsize=[10,6])\n",
    "\n",
    "# Plot the pie chart\n",
    "plt.pie(married_counts.values, labels=married_counts.index, autopct='%1.1f%%')\n",
    "\n",
    "# Set plot title and font size\n",
    "plt.title('Marital Status Distribution', fontsize=14)\n",
    "\n",
    "# Set font size for pie chart labels\n",
    "plt.xlabel('Marital Status', fontsize=12)\n",
    "\n",
    "# Add legend\n",
    "plt.legend(title=\"Marital Status\", labels=married_counts.index, loc='best', fontsize=9)\n",
    "\n",
    "# Show the plot\n",
    "plt.show()\n"
   ]
  },
  {
   "cell_type": "markdown",
   "metadata": {},
   "source": [
    "### Depressed distribution"
   ]
  },
  {
   "cell_type": "code",
   "execution_count": 28,
   "metadata": {},
   "outputs": [
    {
     "data": {
      "text/plain": [
       "No depressed    1174\n",
       "depressed        235\n",
       "Name: depressed, dtype: int64"
      ]
     },
     "execution_count": 28,
     "metadata": {},
     "output_type": "execute_result"
    }
   ],
   "source": [
    "depressed_counts = df['depressed'].value_counts()\n",
    "depressed_counts"
   ]
  },
  {
   "cell_type": "code",
   "execution_count": 185,
   "metadata": {},
   "outputs": [
    {
     "data": {
      "image/png": "[encoded data removed]",
      "text/plain": [
       "<Figure size 1000x600 with 1 Axes>"
      ]
     },
     "metadata": {},
     "output_type": "display_data"
    }
   ],
   "source": [
    "# Calculate the value counts for 'depressed' column\n",
    "plt.style.use('fivethirtyeight')\n",
    "depressed_counts = df['depressed'].value_counts()\n",
    "depressed = ['No depressed', 'depressed']\n",
    "\n",
    "# Define figure size\n",
    "plt.figure(figsize=[10,6])\n",
    "\n",
    "# Plot the bar chart\n",
    "plt.bar(depressed,depressed_counts)\n",
    "# Set plot title and font size\n",
    "plt.title('Depressed Distribution', fontsize=14)\n",
    "\n",
    "# Set font size for bar chart labels\n",
    "plt.xlabel('Depressed', fontsize=12)\n",
    "\n",
    "# Add legend\n",
    "plt.legend(['Depressed'], loc='best', fontsize=9)\n",
    "\n",
    "# Show the plot\n",
    "plt.show()"
   ]
  },
  {
   "cell_type": "markdown",
   "metadata": {},
   "source": [
    "### Which education level has the highest distribution"
   ]
  },
  {
   "cell_type": "code",
   "execution_count": 164,
   "metadata": {},
   "outputs": [],
   "source": [
    "edul_count = df.education_level.value_counts(ascending=True)"
   ]
  },
  {
   "cell_type": "code",
   "execution_count": 165,
   "metadata": {},
   "outputs": [
    {
     "data": {
      "text/plain": [
       "19      1\n",
       "18      2\n",
       "2       3\n",
       "16      3\n",
       "17      3\n",
       "3      16\n",
       "13     18\n",
       "4      32\n",
       "5      34\n",
       "11     44\n",
       "12     60\n",
       "6      62\n",
       "14     68\n",
       "1      81\n",
       "7      93\n",
       "8     171\n",
       "9     293\n",
       "10    425\n",
       "Name: education_level, dtype: int64"
      ]
     },
     "execution_count": 165,
     "metadata": {},
     "output_type": "execute_result"
    }
   ],
   "source": [
    "edul_count"
   ]
  },
  {
   "cell_type": "code",
   "execution_count": 166,
   "metadata": {},
   "outputs": [],
   "source": [
    "edu_l = np.array([1,2,3,4,5,6,7,8,9,10,11,12,13,14,16,17,18,19])\n",
    "countedu =np.array([81,3,16,32,34,62,93,171,293,425,44,60,18,68,3,3,2,1])"
   ]
  },
  {
   "cell_type": "code",
   "execution_count": 182,
   "metadata": {},
   "outputs": [
    {
     "data": {
      "image/png": "[encoded data removed]",
      "text/plain": [
       "<Figure size 1000x600 with 1 Axes>"
      ]
     },
     "metadata": {},
     "output_type": "display_data"
    }
   ],
   "source": [
    "# Calculate the value counts for 'education level ' column\n",
    "plt.style.use('fivethirtyeight')\n",
    "# Define figure size\n",
    "plt.figure(figsize=[10,6])\n",
    "\n",
    "# Plot the plot chart\n",
    "plt.plot(edu_l , countedu)\n",
    "# Set plot title and font size\n",
    "plt.title('Education level distribution',fontsize=20)\n",
    "\n",
    "# Set font size for plot chart labels\n",
    "plt.xlabel('Education level',fontsize=12)\n",
    "plt.ylabel('Education level Count',fontsize=12)\n",
    "\n",
    "# Add legend\n",
    "plt.legend(['Education level'], loc='best', fontsize=9)\n",
    "\n",
    "# Show the plot\n",
    "plt.show()"
   ]
  },
  {
   "cell_type": "markdown",
   "metadata": {},
   "source": [
    "### Which Number of children has the highest distribution"
   ]
  },
  {
   "cell_type": "code",
   "execution_count": 178,
   "metadata": {},
   "outputs": [],
   "source": [
    "numchildren = df.Number_children.value_counts(ascending=True)"
   ]
  },
  {
   "cell_type": "code",
   "execution_count": 179,
   "metadata": {},
   "outputs": [
    {
     "data": {
      "text/plain": [
       "10      1\n",
       "11      1\n",
       "9       3\n",
       "8      17\n",
       "7      35\n",
       "6      74\n",
       "5     126\n",
       "0     148\n",
       "1     181\n",
       "4     229\n",
       "2     289\n",
       "3     305\n",
       "Name: Number_children, dtype: int64"
      ]
     },
     "execution_count": 179,
     "metadata": {},
     "output_type": "execute_result"
    }
   ],
   "source": [
    "numchildren"
   ]
  },
  {
   "cell_type": "code",
   "execution_count": 180,
   "metadata": {},
   "outputs": [],
   "source": [
    "childnum=np.array([1,2,3,4,5,6,7,8,9,10,11])\n",
    "childcount=np.array([181,289,305,229,126,74,35,17,3,1,1])"
   ]
  },
  {
   "cell_type": "code",
   "execution_count": 183,
   "metadata": {},
   "outputs": [
    {
     "data": {
      "image/png": "[encoded data removed]",
      "text/plain": [
       "<Figure size 1000x600 with 1 Axes>"
      ]
     },
     "metadata": {},
     "output_type": "display_data"
    }
   ],
   "source": [
    "# Calculate the value counts for 'Number of children' column\n",
    "plt.style.use('fivethirtyeight')\n",
    "\n",
    "# Define figure size\n",
    "plt.figure(figsize=[10,6])\n",
    "\n",
    "# Plot the scatter chart\n",
    "plt.scatter(childnum,childcount) \n",
    "\n",
    "# Set plot title and font size\n",
    "plt.title('Number of children distribution',fontsize = 20)\n",
    "\n",
    "# Set font size for scatter chart labels\n",
    "plt.xlabel('Number of children',fontsize = 12)\n",
    "plt.ylabel('Number of children count',fontsize = 12)\n",
    "\n",
    "# Add legend\n",
    "plt.legend(['Number of children'], loc='best', fontsize=9)\n",
    "\n",
    "# Show the plot\n",
    "plt.show()\n"
   ]
  },
  {
   "cell_type": "markdown",
   "metadata": {},
   "source": [
    "### Which sex has the highest distribution"
   ]
  },
  {
   "cell_type": "code",
   "execution_count": 184,
   "metadata": {},
   "outputs": [
    {
     "data": {
      "image/png": "[encoded data removed]",
      "text/plain": [
       "<Figure size 1000x600 with 1 Axes>"
      ]
     },
     "metadata": {},
     "output_type": "display_data"
    }
   ],
   "source": [
    "# Define figure Calculate the value counts for 'sex' column\n",
    "plt.style.use('fivethirtyeight')\n",
    "sex_counts = df['incoming_salary'].value_counts()\n",
    "sex_counts\n",
    "sex = ['1', '0']\n",
    "\n",
    "# Define figure size\n",
    "plt.figure(figsize=[10,6])\n",
    "\n",
    "# Plot the bar chart\n",
    "plt.bar(sex,sex_counts)\n",
    "\n",
    "# Set plot title and font size\n",
    "plt.title('sex Distribution', fontsize=20)\n",
    "\n",
    "# Set font size for bar chart labels\n",
    "plt.xlabel('sex', fontsize=12)\n",
    "\n",
    "# Add legend\n",
    "plt.legend(['sex'], loc='best', fontsize=9)\n",
    "\n",
    "# Show the plot\n",
    "plt.show()\n"
   ]
  },
  {
   "cell_type": "markdown",
   "metadata": {},
   "source": [
    "### Living expenses for people with depression"
   ]
  },
  {
   "cell_type": "code",
   "execution_count": 29,
   "metadata": {},
   "outputs": [],
   "source": [
    "numexpenses = df.living_expenses.value_counts(ascending=True)"
   ]
  },
  {
   "cell_type": "code",
   "execution_count": 30,
   "metadata": {},
   "outputs": [
    {
     "data": {
      "text/plain": [
       "28347204      1\n",
       "68786016      1\n",
       "88885307      1\n",
       "20886711      1\n",
       "66997629      1\n",
       "           ... \n",
       "10676913     23\n",
       "13346142     23\n",
       "66730708     23\n",
       "53384566     26\n",
       "26692283    515\n",
       "Name: living_expenses, Length: 411, dtype: int64"
      ]
     },
     "execution_count": 30,
     "metadata": {},
     "output_type": "execute_result"
    }
   ],
   "source": [
    "numexpenses "
   ]
  },
  {
   "cell_type": "code",
   "execution_count": 122,
   "metadata": {},
   "outputs": [
    {
     "data": {
      "text/plain": [
       "26692283    515\n",
       "53384566     26\n",
       "13346142     23\n",
       "10676913     23\n",
       "66730708     23\n",
       "           ... \n",
       "422005        1\n",
       "69399935      1\n",
       "98361063      1\n",
       "20553057      1\n",
       "10289875      1\n",
       "Name: living_expenses, Length: 411, dtype: int64"
      ]
     },
     "execution_count": 122,
     "metadata": {},
     "output_type": "execute_result"
    }
   ],
   "source": [
    "df['living_expenses'].value_counts()\n"
   ]
  },
  {
   "cell_type": "code",
   "execution_count": 120,
   "metadata": {},
   "outputs": [
    {
     "data": {
      "image/png": "[encoded data removed]",
      "text/plain": [
       "<Figure size 1000x600 with 1 Axes>"
      ]
     },
     "metadata": {},
     "output_type": "display_data"
    }
   ],
   "source": [
    "# Calculate the value counts for 'living_expenses' column\n",
    "plt.style.use('fivethirtyeight')\n",
    "\n",
    "\n",
    "# Define figure size\n",
    "plt.figure(figsize=[10,6])\n",
    "\n",
    "# Plot the violinplot chart\n",
    "\n",
    "plt.violinplot(df['living_expenses'])\n",
    "# Set plot title and font size\n",
    "plt.title('Living Expenses with Depression and without Depression ',fontsize=12)\n",
    "\n",
    "# Set font size for plot chart labels\n",
    "plt.xlabel('persons with Depression and without Depression',fontsize=12)\n",
    "plt.ylabel('Amount (K.USD)',fontsize=12)\n",
    "\n",
    "\n",
    "\n",
    "# Show the plot\n",
    "plt.show()"
   ]
  },
  {
   "cell_type": "markdown",
   "metadata": {},
   "source": [
    "### The number of owners of the farm"
   ]
  },
  {
   "cell_type": "code",
   "execution_count": 116,
   "metadata": {},
   "outputs": [
    {
     "data": {
      "image/png": "[encoded data removed]",
      "text/plain": [
       "<Figure size 1000x600 with 1 Axes>"
      ]
     },
     "metadata": {},
     "output_type": "display_data"
    }
   ],
   "source": [
    "# Calculate the value counts for 'incoming_own_farm' column\n",
    "plt.style.use('fivethirtyeight')\n",
    "\n",
    "own_counts = df['incoming_own_farm'].value_counts()\n",
    "own_counts\n",
    "incoming_own_farm = ['1', '0']\n",
    "# Define figure size\n",
    "plt.figure(figsize=[10,6])\n",
    "\n",
    "\n",
    "# Plot the bar chart\n",
    "plt.bar(incoming_own_farm,own_counts)\n",
    "# Set plot title and font size\n",
    "plt.title('The number of owners of the farm',fontsize=20)\n",
    "\n",
    "# Set font size for plot chart label\n",
    "\n",
    "plt.ylabel('Number of owners',fontsize=12)\n",
    "\n",
    "plt.ylim([0, 1500])\n",
    "\n",
    "\n",
    "# Show the plot\n",
    "plt.show()"
   ]
  },
  {
   "cell_type": "markdown",
   "metadata": {},
   "source": [
    "### Percentage of people who have depression and incoming business"
   ]
  },
  {
   "cell_type": "code",
   "execution_count": 107,
   "metadata": {},
   "outputs": [
    {
     "data": {
      "image/png": "[encoded data removed]",
      "text/plain": [
       "<Figure size 1000x600 with 1 Axes>"
      ]
     },
     "metadata": {},
     "output_type": "display_data"
    }
   ],
   "source": [
    "# Calculate the value counts for 'incoming_business' column\n",
    "incoming_business_counts = df['incoming_business'].value_counts()\n",
    "plt.style.use('fivethirtyeight')\n",
    "\n",
    "# Define figure size\n",
    "plt.figure(figsize=[10,6])\n",
    "\n",
    "# Plot the pie chart\n",
    "plt.pie(incoming_business_counts, labels=incoming_business_counts.index, autopct='%1.1f%%')\n",
    "\n",
    "# Set plot title and font size\n",
    "plt.title('incoming business Distribution', fontsize=14)\n",
    "\n",
    "# Set font size for pie chart labels\n",
    "plt.xlabel('incoming business Status', fontsize=12)\n",
    "\n",
    "# Add legend\n",
    "plt.legend(title=\"incoming business Status\", labels=incoming_business_counts.index, loc='best', fontsize=9)\n",
    "\n",
    "# Show the plot\n",
    "plt.show()"
   ]
  },
  {
   "cell_type": "markdown",
   "metadata": {},
   "source": [
    "### Family members of people with depression"
   ]
  },
  {
   "cell_type": "code",
   "execution_count": 109,
   "metadata": {},
   "outputs": [
    {
     "data": {
      "image/png": "[encoded data removed]",
      "text/plain": [
       "<Figure size 1000x400 with 1 Axes>"
      ]
     },
     "metadata": {},
     "output_type": "display_data"
    }
   ],
   "source": [
    "plt.style.use('fivethirtyeight')\n",
    "\n",
    "# Define figure size\n",
    "plt.figure(figsize=[10,4])\n",
    "\n",
    "# Plot the histogram\n",
    "plt.hist(df['total_members'], bins=20)\n",
    "\n",
    "# Set x-axis label and font size\n",
    "plt.xlabel('total_members', fontsize=12)\n",
    "\n",
    "# Set y-axis label and font size\n",
    "plt.ylabel('people with depression', fontsize=12)\n",
    "\n",
    "# Set plot title and font size\n",
    "plt.title('Family members of people with depression', fontsize=14)\n",
    "\n",
    "# Add legend\n",
    "plt.legend(['family members'], loc='best', fontsize=20)\n",
    "\n",
    "# Show the plot\n",
    "plt.show()"
   ]
  },
  {
   "cell_type": "code",
   "execution_count": null,
   "metadata": {},
   "outputs": [],
   "source": []
  },
  {
   "cell_type": "code",
   "execution_count": null,
   "metadata": {},
   "outputs": [],
   "source": [
    "plt.figure(figsize=[20,10])\n",
    "plt.suptitle('Subplots',fontsize = 20)\n",
    "\n",
    "#first\n",
    "plt.subplot(1,2,1) #(number of rows, number of columns, number of plot)\n",
    "\n",
    "#second\n",
    "plt.subplot(1,2,2)\n"
   ]
  },
  {
   "cell_type": "code",
   "execution_count": null,
   "metadata": {},
   "outputs": [],
   "source": [
    "# Save the report to an HTML file\n",
    "#profile.to_file(\"report.html\")\n"
   ]
  }
 ],
 "metadata": {
  "kernelspec": {
   "display_name": "Python 3 (ipykernel)",
   "language": "python",
   "name": "python3"
  },
  "language_info": {
   "codemirror_mode": {
    "name": "ipython",
    "version": 3
   },
   "file_extension": ".py",
   "mimetype": "text/x-python",
   "name": "python",
   "nbconvert_exporter": "python",
   "pygments_lexer": "ipython3",
   "version": "3.10.9"
  }
 },
 "nbformat": 4,
 "nbformat_minor": 4
}
